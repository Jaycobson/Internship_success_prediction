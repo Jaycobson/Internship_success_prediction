{
 "cells": [
  {
   "cell_type": "markdown",
   "id": "a437e380",
   "metadata": {},
   "source": [
    "# Model Deployment"
   ]
  },
  {
   "cell_type": "markdown",
   "id": "a97eb52b",
   "metadata": {},
   "source": [
    "### Creating Streamlit App"
   ]
  },
  {
   "cell_type": "code",
   "execution_count": null,
   "id": "2557adc5",
   "metadata": {},
   "outputs": [],
   "source": [
    "#importing packages\n",
    "\n",
    "import streamlit as st\n",
    "import pickle\n",
    "import numpy as np\n",
    "from catboost import CatBoostClassifier"
   ]
  },
  {
   "cell_type": "code",
   "execution_count": null,
   "id": "e5570838",
   "metadata": {},
   "outputs": [],
   "source": [
    "# Loading the pre-trained model\n",
    "with open(\"model.pkl\", \"rb\") as model_file:\n",
    "    model = pickle.load(model_file)"
   ]
  },
  {
   "cell_type": "code",
   "execution_count": null,
   "id": "9cd851c8",
   "metadata": {},
   "outputs": [],
   "source": [
    "features = ['Academic_Performance',\n",
    " 'Research Experience',\n",
    " 'Relevant_Skills',\n",
    " 'Letters_of_Recommendation',\n",
    " 'Interview_Score',\n",
    " 'Motivation Level',\n",
    " 'Extracurricular_Activities',\n",
    " 'Age',\n",
    " 'Coding Experience',\n",
    " 'Work Status',\n",
    " 'Access to Constant Electricity'] "
   ]
  },
  {
   "cell_type": "code",
   "execution_count": null,
   "id": "a564dada",
   "metadata": {},
   "outputs": [],
   "source": [
    "def main():\n",
    "    st.title(\"Internship Success Prediction\")\n",
    "    st.text('Enter your details below')\n",
    "    \n",
    "    # Getting user input for features\n",
    "    user_input = []\n",
    "    for feature in features:\n",
    "        if feature == 'Age':\n",
    "            user_input.append(st.number_input(f\"Enter {feature} within 18 and 30\", step=1, min_value = 0, max_value = 10))\n",
    "        elif feature == 'Motivation Level':\n",
    "            user_input.append(st.number_input(f\"Enter {feature} within 0 and 10\", step=1,min_value = 0, max_value = 10))\n",
    "        elif feature == 'Letters_of_Recommendation':\n",
    "            user_input.append(st.number_input(f\"Enter {feature} within 0 and 4\", step=1,min_value = 0, max_value = 4))\n",
    "        elif feature == 'Academic_Performance':\n",
    "            user_input.append(st.number_input(f\"Enter {feature} within 3 and 5\", step=1,min_value = 3, max_value = 5))\n",
    "        elif feature == 'Experience':\n",
    "            user_input.append(st.number_input(f\"Enter {feature} within 0 and 10\", step=1,min_value = 0, max_value = 10))\n",
    "        else:\n",
    "            user_input.append(st.number_input(f\"Enter {feature}\", step=0))\n",
    "        \n",
    "    # Making a prediction based on user input\n",
    "    if st.button(\"Predict\"):\n",
    "        user_input_array = np.array([user_input])\n",
    "        prediction = model.predict(user_input_array)[0]\n",
    "        st.success(f\"Prediction: {prediction}\")\n",
    "\n",
    "if __name__ == \"__main__\":\n",
    "    main()"
   ]
  },
  {
   "cell_type": "code",
   "execution_count": null,
   "id": "38f9ccc1",
   "metadata": {},
   "outputs": [],
   "source": []
  }
 ],
 "metadata": {
  "kernelspec": {
   "display_name": "Python 3 (ipykernel)",
   "language": "python",
   "name": "python3"
  },
  "language_info": {
   "codemirror_mode": {
    "name": "ipython",
    "version": 3
   },
   "file_extension": ".py",
   "mimetype": "text/x-python",
   "name": "python",
   "nbconvert_exporter": "python",
   "pygments_lexer": "ipython3",
   "version": "3.9.13"
  }
 },
 "nbformat": 4,
 "nbformat_minor": 5
}
