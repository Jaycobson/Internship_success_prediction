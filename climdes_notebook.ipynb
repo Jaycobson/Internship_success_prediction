{
 "cells": [
  {
   "cell_type": "markdown",
   "id": "e74987bd",
   "metadata": {},
   "source": [
    "## Importing Packages"
   ]
  },
  {
   "cell_type": "code",
   "execution_count": 1,
   "id": "eaec1e44",
   "metadata": {},
   "outputs": [],
   "source": [
    "import pandas as pd\n",
    "import numpy as np\n",
    "import shap\n",
    "import pickle\n",
    "from sklearn.model_selection import GridSearchCV\n",
    "from catboost import CatBoostClassifier\n",
    "from sklearn.metrics import classification_report\n",
    "from sklearn.linear_model import LogisticRegression\n",
    "from sklearn.model_selection import train_test_split\n",
    "import warnings\n",
    "warnings.filterwarnings('ignore')"
   ]
  },
  {
   "cell_type": "code",
   "execution_count": 2,
   "id": "936402b8",
   "metadata": {},
   "outputs": [],
   "source": [
    "#Setting a random seed for reproducibility\n",
    "np.random.seed(1)"
   ]
  },
  {
   "cell_type": "code",
   "execution_count": 3,
   "id": "493db199",
   "metadata": {},
   "outputs": [],
   "source": [
    "# number of records to be simulated\n",
    "num_applicants = 250"
   ]
  },
  {
   "cell_type": "markdown",
   "id": "653bf0fc",
   "metadata": {},
   "source": [
    "## Creating fields/features"
   ]
  },
  {
   "cell_type": "markdown",
   "id": "ddffcfac",
   "metadata": {},
   "source": [
    "It is important to create useful features that a machine learning model will be able to learn from. To determine the success of students in the internship, a number of factors will prove very useful such as research experience, age, cgpa"
   ]
  },
  {
   "cell_type": "markdown",
   "id": "0560ac85",
   "metadata": {},
   "source": [
    "#### Simulating Academic Performace(CGPA)"
   ]
  },
  {
   "cell_type": "code",
   "execution_count": 4,
   "id": "03a6829a",
   "metadata": {},
   "outputs": [],
   "source": [
    "academic_performance = np.random.uniform(low=3.0, high=5.0, size=num_applicants)"
   ]
  },
  {
   "cell_type": "code",
   "execution_count": 5,
   "id": "c3c37f39",
   "metadata": {
    "scrolled": false
   },
   "outputs": [
    {
     "data": {
      "text/plain": [
       "array([3.83404401, 4.44064899, 3.00022875, 3.60466515, 3.29351178,\n",
       "       3.18467719, 3.37252042, 3.69112145, 3.79353495, 4.07763347])"
      ]
     },
     "execution_count": 5,
     "metadata": {},
     "output_type": "execute_result"
    }
   ],
   "source": [
    "academic_performance[:10]"
   ]
  },
  {
   "cell_type": "markdown",
   "id": "61302f42",
   "metadata": {},
   "source": [
    "The simulation of academic performance simply randomly selects numbers between 3.0 to 5.0. Assuming that all students graduated within this range."
   ]
  },
  {
   "cell_type": "markdown",
   "id": "3a2ae660",
   "metadata": {},
   "source": [
    "#### Simulating Research Experience"
   ]
  },
  {
   "cell_type": "code",
   "execution_count": 6,
   "id": "aeb71560",
   "metadata": {},
   "outputs": [],
   "source": [
    "research_experience = np.random.choice([0, 1], size=num_applicants, p=[0.3, 0.7])"
   ]
  },
  {
   "cell_type": "code",
   "execution_count": 7,
   "id": "dcf2f38d",
   "metadata": {},
   "outputs": [
    {
     "data": {
      "text/plain": [
       "array([0, 1, 1, 1, 1, 1, 1, 1, 0, 1])"
      ]
     },
     "execution_count": 7,
     "metadata": {},
     "output_type": "execute_result"
    }
   ],
   "source": [
    "research_experience[:10]"
   ]
  },
  {
   "cell_type": "markdown",
   "id": "b75ad4f0",
   "metadata": {},
   "source": [
    "If an intern has had a prior research experience, such candidate is likely to perform better than another intern who wasn't exposed to research  till the intership"
   ]
  },
  {
   "cell_type": "markdown",
   "id": "5410bd3c",
   "metadata": {},
   "source": [
    "#### Simulating Relevant Skills"
   ]
  },
  {
   "cell_type": "code",
   "execution_count": 8,
   "id": "35ce95eb",
   "metadata": {},
   "outputs": [],
   "source": [
    "relevant_skills = np.random.randint(low=3, high=9, size=num_applicants)"
   ]
  },
  {
   "cell_type": "code",
   "execution_count": 9,
   "id": "a5dc3fcb",
   "metadata": {},
   "outputs": [
    {
     "data": {
      "text/plain": [
       "array([3, 7, 4, 7, 3, 5, 8, 6, 5, 8])"
      ]
     },
     "execution_count": 9,
     "metadata": {},
     "output_type": "execute_result"
    }
   ],
   "source": [
    "relevant_skills[:10]"
   ]
  },
  {
   "cell_type": "markdown",
   "id": "63af8ec1",
   "metadata": {},
   "source": [
    "Relevant skills identifies the unique number of skills that each intern has and how it will be useful as they intern"
   ]
  },
  {
   "cell_type": "markdown",
   "id": "19928945",
   "metadata": {},
   "source": [
    "#### Simulating Letter of Recommendation"
   ]
  },
  {
   "cell_type": "code",
   "execution_count": 10,
   "id": "75949ef9",
   "metadata": {},
   "outputs": [],
   "source": [
    "letters_of_recommendation = np.random.randint(low=1.0, high=4.0, size=num_applicants)"
   ]
  },
  {
   "cell_type": "code",
   "execution_count": 11,
   "id": "7b5da61d",
   "metadata": {
    "scrolled": true
   },
   "outputs": [
    {
     "data": {
      "text/plain": [
       "array([2, 1, 1, 3, 1, 2, 3, 1, 1, 2])"
      ]
     },
     "execution_count": 11,
     "metadata": {},
     "output_type": "execute_result"
    }
   ],
   "source": [
    "letters_of_recommendation[:10]"
   ]
  },
  {
   "cell_type": "markdown",
   "id": "40d831dd",
   "metadata": {},
   "source": [
    "It is assumed that each intern should submit 1 or more recommendations, submitting more than one could assure the intern's success to carry on till the end of the program"
   ]
  },
  {
   "cell_type": "markdown",
   "id": "511dfe9e",
   "metadata": {},
   "source": [
    "#### Simulating motivation level"
   ]
  },
  {
   "cell_type": "code",
   "execution_count": 12,
   "id": "b6b88fa0",
   "metadata": {},
   "outputs": [],
   "source": [
    "motivation_level = np.random.randint(low=1, high=10, size=num_applicants)"
   ]
  },
  {
   "cell_type": "code",
   "execution_count": 13,
   "id": "45bc5490",
   "metadata": {},
   "outputs": [
    {
     "data": {
      "text/plain": [
       "array([9, 6, 7, 1, 4, 4, 6, 2, 9, 6])"
      ]
     },
     "execution_count": 13,
     "metadata": {},
     "output_type": "execute_result"
    }
   ],
   "source": [
    "motivation_level[:10]"
   ]
  },
  {
   "cell_type": "markdown",
   "id": "6687ec7b",
   "metadata": {},
   "source": [
    "Usually, someone who has a motivation greater than average or 5 in this case is likely to stay committed till the end. One should expect much from someone with motivation greater than 8 because to whom much is given, much is expected."
   ]
  },
  {
   "cell_type": "markdown",
   "id": "ec264ab1",
   "metadata": {},
   "source": [
    "#### Simulating Education Status"
   ]
  },
  {
   "cell_type": "code",
   "execution_count": 14,
   "id": "d79af9cd",
   "metadata": {},
   "outputs": [],
   "source": [
    "education_levels = np.random.choice([0, 1, 2], size=num_applicants, p=[0.5, 0.3, 0.2])"
   ]
  },
  {
   "cell_type": "code",
   "execution_count": 15,
   "id": "98b58d78",
   "metadata": {
    "scrolled": true
   },
   "outputs": [
    {
     "data": {
      "text/plain": [
       "array([1, 0, 0, 2, 0, 0, 2, 0, 2, 2])"
      ]
     },
     "execution_count": 15,
     "metadata": {},
     "output_type": "execute_result"
    }
   ],
   "source": [
    "education_levels[:10]"
   ]
  },
  {
   "cell_type": "markdown",
   "id": "41c894e5",
   "metadata": {},
   "source": [
    "The educational status is very important. Someone with a PhD experience is more likely to be very skilled at research than a fresh graduate with Bsc. 0, 1 and 2 mean BSc, MSc and Phd respectively in the data."
   ]
  },
  {
   "cell_type": "markdown",
   "id": "f112e622",
   "metadata": {},
   "source": [
    "#### Simulating Age"
   ]
  },
  {
   "cell_type": "code",
   "execution_count": 16,
   "id": "1e250935",
   "metadata": {},
   "outputs": [],
   "source": [
    "age = np.random.randint(low=18, high=30, size=num_applicants)"
   ]
  },
  {
   "cell_type": "code",
   "execution_count": 17,
   "id": "eb9d5450",
   "metadata": {},
   "outputs": [
    {
     "data": {
      "text/plain": [
       "array([25, 27, 22, 25, 25, 23, 24, 29, 28, 24])"
      ]
     },
     "execution_count": 17,
     "metadata": {},
     "output_type": "execute_result"
    }
   ],
   "source": [
    "age[:10]"
   ]
  },
  {
   "cell_type": "markdown",
   "id": "9b502c52",
   "metadata": {},
   "source": [
    "Assuming all interns are within the ages of 18 and 30."
   ]
  },
  {
   "cell_type": "markdown",
   "id": "4593eb25",
   "metadata": {},
   "source": [
    "#### Simulating Interview Score during Oral Assessment"
   ]
  },
  {
   "cell_type": "code",
   "execution_count": 18,
   "id": "6dc2a076",
   "metadata": {},
   "outputs": [],
   "source": [
    "interview_score = np.random.randint(low=4, high=10, size=num_applicants)"
   ]
  },
  {
   "cell_type": "code",
   "execution_count": 19,
   "id": "3b65a597",
   "metadata": {},
   "outputs": [
    {
     "data": {
      "text/plain": [
       "array([9, 5, 5, 6, 6, 9, 7, 4, 6, 6])"
      ]
     },
     "execution_count": 19,
     "metadata": {},
     "output_type": "execute_result"
    }
   ],
   "source": [
    "interview_score[:10]"
   ]
  },
  {
   "cell_type": "markdown",
   "id": "04eb03b7",
   "metadata": {},
   "source": [
    "The interview score when the intern was interviewed is important, the score collated by the church helps to know what rating is likey to be given to an intern."
   ]
  },
  {
   "cell_type": "markdown",
   "id": "26bee4d8",
   "metadata": {},
   "source": [
    "#### Simulating Coding Experience"
   ]
  },
  {
   "cell_type": "code",
   "execution_count": 20,
   "id": "53911fe9",
   "metadata": {},
   "outputs": [],
   "source": [
    "coding_experience = np.random.randint(low=1, high=10, size=num_applicants)"
   ]
  },
  {
   "cell_type": "code",
   "execution_count": 21,
   "id": "b616ce0c",
   "metadata": {},
   "outputs": [
    {
     "data": {
      "text/plain": [
       "array([5, 1, 4, 5, 1, 3, 5, 2, 7, 1])"
      ]
     },
     "execution_count": 21,
     "metadata": {},
     "output_type": "execute_result"
    }
   ],
   "source": [
    "coding_experience[:10]"
   ]
  },
  {
   "cell_type": "markdown",
   "id": "66607247",
   "metadata": {},
   "source": [
    "A very good coding experience is needed for this internship and those who know how to code with little or no help can perform tasks on their own. This is a good feature to use to predict intern success"
   ]
  },
  {
   "cell_type": "markdown",
   "id": "fee23360",
   "metadata": {},
   "source": [
    "#### Simulating Current Work Status"
   ]
  },
  {
   "cell_type": "code",
   "execution_count": 22,
   "id": "10a6de14",
   "metadata": {},
   "outputs": [],
   "source": [
    "work_status = np.random.choice([0, 1, 2], size=num_applicants, p=[0.4, 0.3, 0.3])"
   ]
  },
  {
   "cell_type": "code",
   "execution_count": 23,
   "id": "f7d240eb",
   "metadata": {},
   "outputs": [
    {
     "data": {
      "text/plain": [
       "array([0, 1, 1, 2, 0, 0, 0, 2, 1, 2])"
      ]
     },
     "execution_count": 23,
     "metadata": {},
     "output_type": "execute_result"
    }
   ],
   "source": [
    "work_status[:10]"
   ]
  },
  {
   "cell_type": "markdown",
   "id": "3d8576aa",
   "metadata": {},
   "source": [
    "Assuming that most of the interns are employed while some are self employed and unemployed, this feature is going to help to ascertain the hours interns will be willing to committ with the busy schedule. 0, 1 and 2 mean Employed, Self-Employed and Unemployed respectively in the data."
   ]
  },
  {
   "cell_type": "markdown",
   "id": "6fc795e4",
   "metadata": {},
   "source": [
    "#### Simulating hours of committment"
   ]
  },
  {
   "cell_type": "code",
   "execution_count": 24,
   "id": "8cd8a488",
   "metadata": {},
   "outputs": [],
   "source": [
    "hours_of_committment = np.random.choice([5,10,20,30,40], size=num_applicants, p=[0.1, 0.4, 0.2,0.2,0.1])"
   ]
  },
  {
   "cell_type": "code",
   "execution_count": 25,
   "id": "79c2e720",
   "metadata": {},
   "outputs": [
    {
     "data": {
      "text/plain": [
       "array([40, 10, 40, 40,  5, 20, 40, 30, 20, 10])"
      ]
     },
     "execution_count": 25,
     "metadata": {},
     "output_type": "execute_result"
    }
   ],
   "source": [
    "hours_of_committment[:10]"
   ]
  },
  {
   "cell_type": "markdown",
   "id": "703de111",
   "metadata": {},
   "source": [
    "Let's assume that many interns are able to committ 10 hours weekly while others are able to give up to 40 hours and some as low as 5 hours because of a busy schedule."
   ]
  },
  {
   "cell_type": "markdown",
   "id": "269698ad",
   "metadata": {},
   "source": [
    "#### Simulating Relationship Status"
   ]
  },
  {
   "cell_type": "code",
   "execution_count": 26,
   "id": "e0893736",
   "metadata": {},
   "outputs": [],
   "source": [
    "relationship_status = np.random.choice([0, 1], size=num_applicants, p=[0.8, 0.2])"
   ]
  },
  {
   "cell_type": "code",
   "execution_count": 27,
   "id": "4eb27228",
   "metadata": {},
   "outputs": [
    {
     "data": {
      "text/plain": [
       "array([0, 0, 1, 1, 0, 0, 0, 0, 1, 1])"
      ]
     },
     "execution_count": 27,
     "metadata": {},
     "output_type": "execute_result"
    }
   ],
   "source": [
    "relationship_status[:10]"
   ]
  },
  {
   "cell_type": "markdown",
   "id": "6cd0f547",
   "metadata": {},
   "source": [
    "Assuming many interns are singles, they are likely to committ more time to the program. 0 and 1 mean Single and Married respectively in the data."
   ]
  },
  {
   "cell_type": "markdown",
   "id": "c77317aa",
   "metadata": {},
   "source": [
    "#### Simulating Work Experience"
   ]
  },
  {
   "cell_type": "code",
   "execution_count": 28,
   "id": "73f2b72d",
   "metadata": {},
   "outputs": [],
   "source": [
    "experience = np.random.randint(low=0, high=10, size=num_applicants)"
   ]
  },
  {
   "cell_type": "code",
   "execution_count": 29,
   "id": "ad102f18",
   "metadata": {},
   "outputs": [
    {
     "data": {
      "text/plain": [
       "array([0, 5, 0, 6, 9, 5, 2, 9, 1, 3])"
      ]
     },
     "execution_count": 29,
     "metadata": {},
     "output_type": "execute_result"
    }
   ],
   "source": [
    "experience[:10]"
   ]
  },
  {
   "cell_type": "markdown",
   "id": "7ba23d67",
   "metadata": {},
   "source": [
    "This defines the work experience of interns, someone with a high number of Years of experience(YOE) is likely to know how to manage time and stress in order to meet up with deadlines"
   ]
  },
  {
   "cell_type": "markdown",
   "id": "7f714ea6",
   "metadata": {},
   "source": [
    "#### Simulating access to electricity"
   ]
  },
  {
   "cell_type": "code",
   "execution_count": 30,
   "id": "e4f6676a",
   "metadata": {},
   "outputs": [],
   "source": [
    "access_to_constant_electricity = np.random.choice([0, 1], size=num_applicants, p=[0.2, 0.8])"
   ]
  },
  {
   "cell_type": "code",
   "execution_count": 31,
   "id": "b61ec3cf",
   "metadata": {
    "scrolled": true
   },
   "outputs": [
    {
     "data": {
      "text/plain": [
       "array([1, 0, 1, 0, 0, 1, 1, 1, 0, 1])"
      ]
     },
     "execution_count": 31,
     "metadata": {},
     "output_type": "execute_result"
    }
   ],
   "source": [
    "access_to_constant_electricity[:10]"
   ]
  },
  {
   "cell_type": "markdown",
   "id": "575fc7a1",
   "metadata": {},
   "source": [
    "Constant electricity is very essential to guaranty an intern's success to some extent. 0 and 1 mean No and Yes respectively in the data."
   ]
  },
  {
   "cell_type": "markdown",
   "id": "3c90d5dd",
   "metadata": {},
   "source": [
    "#### Simulating extracurricular activities"
   ]
  },
  {
   "cell_type": "code",
   "execution_count": 32,
   "id": "20a6ea90",
   "metadata": {},
   "outputs": [],
   "source": [
    "extracurricular_activities = np.random.choice([0, 1], size=num_applicants, p=[0.7, 0.3])"
   ]
  },
  {
   "cell_type": "code",
   "execution_count": 33,
   "id": "94dfe05c",
   "metadata": {},
   "outputs": [
    {
     "data": {
      "text/plain": [
       "array([1, 0, 1, 0, 1, 0, 0, 0, 1, 1])"
      ]
     },
     "execution_count": 33,
     "metadata": {},
     "output_type": "execute_result"
    }
   ],
   "source": [
    "extracurricular_activities[:10]"
   ]
  },
  {
   "cell_type": "markdown",
   "id": "b565a2cb",
   "metadata": {},
   "source": [
    "All work and no play can make a Jack-like intern dull, therefore it is important to take timeout from work sometimes. Hence, involvement in extracurricular could boost an intern's communication skills, presentation skill and managerial skill. 0 and 1 mean No and Yes respectively in the data."
   ]
  },
  {
   "cell_type": "markdown",
   "id": "437d41b1",
   "metadata": {},
   "source": [
    "#### Simulating Internship Success"
   ]
  },
  {
   "cell_type": "code",
   "execution_count": 34,
   "id": "3693d4ee",
   "metadata": {},
   "outputs": [],
   "source": [
    "internship_success = np.random.choice([0, 1], size=num_applicants, p=[0.3, 0.7])"
   ]
  },
  {
   "cell_type": "markdown",
   "id": "5c9f6caa",
   "metadata": {},
   "source": [
    "This is a binary target for the machine learning model where 0 is not-successful and 1 means successful internship"
   ]
  },
  {
   "cell_type": "markdown",
   "id": "f6a3ab3a",
   "metadata": {},
   "source": [
    "#### Creating DataFrame from the simulated data"
   ]
  },
  {
   "cell_type": "code",
   "execution_count": 35,
   "id": "514a6241",
   "metadata": {},
   "outputs": [],
   "source": [
    "\n",
    "data = pd.DataFrame({\n",
    "    'Academic_Performance': academic_performance,\n",
    "    'Research Experience' : research_experience,\n",
    "    'Relevant_Skills': relevant_skills,\n",
    "    'Letters_of_Recommendation': letters_of_recommendation,\n",
    "    'Interview_Score': interview_score,\n",
    "    'Motivation Level' : motivation_level,\n",
    "    'Extracurricular_Activities': extracurricular_activities,\n",
    "    'Age' : age,\n",
    "    'Coding Experience' : coding_experience,\n",
    "    'Work Status' : work_status,\n",
    "    'Access to Constant Electricity' : access_to_constant_electricity,\n",
    "    'Internship_Success': internship_success\n",
    "    \n",
    "})"
   ]
  },
  {
   "cell_type": "code",
   "execution_count": 36,
   "id": "a7f369f6",
   "metadata": {
    "scrolled": true
   },
   "outputs": [
    {
     "data": {
      "text/html": [
       "<div>\n",
       "<style scoped>\n",
       "    .dataframe tbody tr th:only-of-type {\n",
       "        vertical-align: middle;\n",
       "    }\n",
       "\n",
       "    .dataframe tbody tr th {\n",
       "        vertical-align: top;\n",
       "    }\n",
       "\n",
       "    .dataframe thead th {\n",
       "        text-align: right;\n",
       "    }\n",
       "</style>\n",
       "<table border=\"1\" class=\"dataframe\">\n",
       "  <thead>\n",
       "    <tr style=\"text-align: right;\">\n",
       "      <th></th>\n",
       "      <th>Academic_Performance</th>\n",
       "      <th>Research Experience</th>\n",
       "      <th>Relevant_Skills</th>\n",
       "      <th>Letters_of_Recommendation</th>\n",
       "      <th>Interview_Score</th>\n",
       "      <th>Motivation Level</th>\n",
       "      <th>Extracurricular_Activities</th>\n",
       "      <th>Age</th>\n",
       "      <th>Coding Experience</th>\n",
       "      <th>Work Status</th>\n",
       "      <th>Access to Constant Electricity</th>\n",
       "      <th>Internship_Success</th>\n",
       "    </tr>\n",
       "  </thead>\n",
       "  <tbody>\n",
       "    <tr>\n",
       "      <th>0</th>\n",
       "      <td>3.834044</td>\n",
       "      <td>0</td>\n",
       "      <td>3</td>\n",
       "      <td>2</td>\n",
       "      <td>9</td>\n",
       "      <td>9</td>\n",
       "      <td>1</td>\n",
       "      <td>25</td>\n",
       "      <td>5</td>\n",
       "      <td>0</td>\n",
       "      <td>1</td>\n",
       "      <td>0</td>\n",
       "    </tr>\n",
       "    <tr>\n",
       "      <th>1</th>\n",
       "      <td>4.440649</td>\n",
       "      <td>1</td>\n",
       "      <td>7</td>\n",
       "      <td>1</td>\n",
       "      <td>5</td>\n",
       "      <td>6</td>\n",
       "      <td>0</td>\n",
       "      <td>27</td>\n",
       "      <td>1</td>\n",
       "      <td>1</td>\n",
       "      <td>0</td>\n",
       "      <td>1</td>\n",
       "    </tr>\n",
       "    <tr>\n",
       "      <th>2</th>\n",
       "      <td>3.000229</td>\n",
       "      <td>1</td>\n",
       "      <td>4</td>\n",
       "      <td>1</td>\n",
       "      <td>5</td>\n",
       "      <td>7</td>\n",
       "      <td>1</td>\n",
       "      <td>22</td>\n",
       "      <td>4</td>\n",
       "      <td>1</td>\n",
       "      <td>1</td>\n",
       "      <td>1</td>\n",
       "    </tr>\n",
       "    <tr>\n",
       "      <th>3</th>\n",
       "      <td>3.604665</td>\n",
       "      <td>1</td>\n",
       "      <td>7</td>\n",
       "      <td>3</td>\n",
       "      <td>6</td>\n",
       "      <td>1</td>\n",
       "      <td>0</td>\n",
       "      <td>25</td>\n",
       "      <td>5</td>\n",
       "      <td>2</td>\n",
       "      <td>0</td>\n",
       "      <td>1</td>\n",
       "    </tr>\n",
       "    <tr>\n",
       "      <th>4</th>\n",
       "      <td>3.293512</td>\n",
       "      <td>1</td>\n",
       "      <td>3</td>\n",
       "      <td>1</td>\n",
       "      <td>6</td>\n",
       "      <td>4</td>\n",
       "      <td>1</td>\n",
       "      <td>25</td>\n",
       "      <td>1</td>\n",
       "      <td>0</td>\n",
       "      <td>0</td>\n",
       "      <td>0</td>\n",
       "    </tr>\n",
       "  </tbody>\n",
       "</table>\n",
       "</div>"
      ],
      "text/plain": [
       "   Academic_Performance  Research Experience  Relevant_Skills  \\\n",
       "0              3.834044                    0                3   \n",
       "1              4.440649                    1                7   \n",
       "2              3.000229                    1                4   \n",
       "3              3.604665                    1                7   \n",
       "4              3.293512                    1                3   \n",
       "\n",
       "   Letters_of_Recommendation  Interview_Score  Motivation Level  \\\n",
       "0                          2                9                 9   \n",
       "1                          1                5                 6   \n",
       "2                          1                5                 7   \n",
       "3                          3                6                 1   \n",
       "4                          1                6                 4   \n",
       "\n",
       "   Extracurricular_Activities  Age  Coding Experience  Work Status  \\\n",
       "0                           1   25                  5            0   \n",
       "1                           0   27                  1            1   \n",
       "2                           1   22                  4            1   \n",
       "3                           0   25                  5            2   \n",
       "4                           1   25                  1            0   \n",
       "\n",
       "   Access to Constant Electricity  Internship_Success  \n",
       "0                               1                   0  \n",
       "1                               0                   1  \n",
       "2                               1                   1  \n",
       "3                               0                   1  \n",
       "4                               0                   0  "
      ]
     },
     "execution_count": 36,
     "metadata": {},
     "output_type": "execute_result"
    }
   ],
   "source": [
    "data.head()"
   ]
  },
  {
   "cell_type": "code",
   "execution_count": 37,
   "id": "a328cb71",
   "metadata": {},
   "outputs": [
    {
     "data": {
      "text/plain": [
       "(250, 12)"
      ]
     },
     "execution_count": 37,
     "metadata": {},
     "output_type": "execute_result"
    }
   ],
   "source": [
    "data.shape"
   ]
  },
  {
   "cell_type": "markdown",
   "id": "0153ca1f",
   "metadata": {},
   "source": [
    "#### Data Splitting"
   ]
  },
  {
   "cell_type": "markdown",
   "id": "4d9f4027",
   "metadata": {},
   "source": [
    "Splitting the data into train and test set helps to validate the data. Validating the data on the test set and checking the metrics helps to avoid issues like overfitting and underfitting"
   ]
  },
  {
   "cell_type": "code",
   "execution_count": 38,
   "id": "c04138d2",
   "metadata": {},
   "outputs": [],
   "source": [
    "X,y = data.drop('Internship_Success', axis = 1), data['Internship_Success']"
   ]
  },
  {
   "cell_type": "code",
   "execution_count": 39,
   "id": "092a7d4a",
   "metadata": {},
   "outputs": [
    {
     "data": {
      "text/plain": [
       "['Academic_Performance',\n",
       " 'Research Experience',\n",
       " 'Relevant_Skills',\n",
       " 'Letters_of_Recommendation',\n",
       " 'Interview_Score',\n",
       " 'Motivation Level',\n",
       " 'Extracurricular_Activities',\n",
       " 'Age',\n",
       " 'Coding Experience',\n",
       " 'Work Status',\n",
       " 'Access to Constant Electricity']"
      ]
     },
     "execution_count": 39,
     "metadata": {},
     "output_type": "execute_result"
    }
   ],
   "source": [
    "X.columns.to_list()"
   ]
  },
  {
   "cell_type": "code",
   "execution_count": 40,
   "id": "8aa6070b",
   "metadata": {},
   "outputs": [],
   "source": [
    "x_train,x_test,y_train,y_test = train_test_split(X,y,random_state= 2023, stratify = y)"
   ]
  },
  {
   "cell_type": "markdown",
   "id": "f1322cdd",
   "metadata": {},
   "source": [
    "#### Modelling and Evaluation"
   ]
  },
  {
   "cell_type": "markdown",
   "id": "c85e4e47",
   "metadata": {},
   "source": [
    "This section shows the processes taken in modelling and evaluation. This is a classification problem and classifiers are used. Unlike a regression problem which involves continuous targets, classification problems contain distinct targets. For example, binary classification, multi-classification, multi-label classification"
   ]
  },
  {
   "cell_type": "markdown",
   "id": "02cacab4",
   "metadata": {},
   "source": [
    "First approach was to use a basic classifier such as logistic regression, test on a holdout set"
   ]
  },
  {
   "cell_type": "code",
   "execution_count": 41,
   "id": "61591252",
   "metadata": {},
   "outputs": [],
   "source": [
    "lr = LogisticRegression(random_state = 1)"
   ]
  },
  {
   "cell_type": "code",
   "execution_count": 42,
   "id": "4151f33b",
   "metadata": {},
   "outputs": [
    {
     "data": {
      "text/plain": [
       "LogisticRegression(random_state=1)"
      ]
     },
     "execution_count": 42,
     "metadata": {},
     "output_type": "execute_result"
    }
   ],
   "source": [
    "lr.fit(x_train,y_train)"
   ]
  },
  {
   "cell_type": "code",
   "execution_count": 43,
   "id": "d2749132",
   "metadata": {},
   "outputs": [],
   "source": [
    "lr_model_predictions = lr.predict(x_test)"
   ]
  },
  {
   "cell_type": "markdown",
   "id": "34ecdba9",
   "metadata": {},
   "source": [
    "##### Using a Classification Report to understand metrics"
   ]
  },
  {
   "cell_type": "markdown",
   "id": "3e2b9508",
   "metadata": {},
   "source": [
    "Classification report shows information about precision, recall and f1-score. For the logistic regression model trained, the classification report is shown below.\n",
    "\n",
    "When tested on the test set, the model yields an accuracy of 57%, f1-score of about 0.23 and 0.7 for 0 and 1 respectively. \n",
    "\n",
    "In machine learing, the metric to use for classification algorithm is f1-score. The reason is because of its balance between precision and recall so there isn't bias."
   ]
  },
  {
   "cell_type": "code",
   "execution_count": 44,
   "id": "6cdfe444",
   "metadata": {
    "scrolled": true
   },
   "outputs": [
    {
     "name": "stdout",
     "output_type": "stream",
     "text": [
      "              precision    recall  f1-score   support\n",
      "\n",
      "           0       0.31      0.18      0.23        22\n",
      "           1       0.64      0.78      0.70        41\n",
      "\n",
      "    accuracy                           0.57        63\n",
      "   macro avg       0.47      0.48      0.47        63\n",
      "weighted avg       0.52      0.57      0.54        63\n",
      "\n"
     ]
    }
   ],
   "source": [
    "print(classification_report(y_test,lr_model_predictions))"
   ]
  },
  {
   "cell_type": "markdown",
   "id": "1e3c8ae6",
   "metadata": {},
   "source": [
    "The accuracy of the logistic regression model is about 57% which is more than average and could be considered a fairly accuratee model"
   ]
  },
  {
   "cell_type": "markdown",
   "id": "6f77fc43",
   "metadata": {},
   "source": [
    "Second approach for modelling is to use the catboost classifier which has always proved to be always useful when dealing with non-linear models"
   ]
  },
  {
   "cell_type": "code",
   "execution_count": 45,
   "id": "5bcd6619",
   "metadata": {},
   "outputs": [],
   "source": [
    "cb = CatBoostClassifier(random_state = 42,verbose = False)"
   ]
  },
  {
   "cell_type": "code",
   "execution_count": 46,
   "id": "1573adde",
   "metadata": {},
   "outputs": [
    {
     "data": {
      "text/plain": [
       "<catboost.core.CatBoostClassifier at 0x18aff82e9d0>"
      ]
     },
     "execution_count": 46,
     "metadata": {},
     "output_type": "execute_result"
    }
   ],
   "source": [
    "cb.fit(x_train,y_train)"
   ]
  },
  {
   "cell_type": "code",
   "execution_count": 47,
   "id": "79487a27",
   "metadata": {},
   "outputs": [],
   "source": [
    "cb_model_predictions = cb.predict(x_test)"
   ]
  },
  {
   "cell_type": "markdown",
   "id": "a8a7a722",
   "metadata": {},
   "source": [
    "Also, the metrics for the catboost model are shown below. The accuracy is 60%, precision of about 0.32 and 0.72 for 0 and 1 respectively."
   ]
  },
  {
   "cell_type": "code",
   "execution_count": 48,
   "id": "bb522fab",
   "metadata": {},
   "outputs": [
    {
     "name": "stdout",
     "output_type": "stream",
     "text": [
      "              precision    recall  f1-score   support\n",
      "\n",
      "           0       0.40      0.27      0.32        22\n",
      "           1       0.67      0.78      0.72        41\n",
      "\n",
      "    accuracy                           0.60        63\n",
      "   macro avg       0.53      0.53      0.52        63\n",
      "weighted avg       0.57      0.60      0.58        63\n",
      "\n"
     ]
    }
   ],
   "source": [
    "print(classification_report(y_test,cb_model_predictions))"
   ]
  },
  {
   "cell_type": "markdown",
   "id": "13660754",
   "metadata": {},
   "source": [
    "The catboost model performed better than the logistic regression.  It yielded an accuracy of 60% which isn't too far from that of the logistic regression. I would also consider this a fair model but with grid search, the hyper parameters can be tuned."
   ]
  },
  {
   "cell_type": "markdown",
   "id": "72ae0dde",
   "metadata": {},
   "source": [
    "#### Hyper-parameter Tuning"
   ]
  },
  {
   "cell_type": "markdown",
   "id": "346de422",
   "metadata": {},
   "source": [
    "Hyper-parameter tuning is an approach taken to extract out the best parameters for training and obtained good results. In this project, the GridSearchCV is used and the parameters investigated are learning rate, depth and iterations. Once the best set of hyper-parameters are obtained then next thing is to use them for the final training.\n",
    "\n",
    "I used the catboost model instead of the logistic regression simply because it did well without tuning."
   ]
  },
  {
   "cell_type": "code",
   "execution_count": 49,
   "id": "a189984a",
   "metadata": {},
   "outputs": [],
   "source": [
    "cb = CatBoostClassifier(random_state = 42,verbose = False)\n",
    "\n",
    "# parameter grid for the grid search\n",
    "param_grid = {\n",
    "    'learning_rate': [0.005, 0.01, 0.015],\n",
    "    'depth': [2,3],\n",
    "    'iterations': [50,70, 80,100],\n",
    "}"
   ]
  },
  {
   "cell_type": "code",
   "execution_count": 50,
   "id": "3b3aa958",
   "metadata": {},
   "outputs": [],
   "source": [
    "grid_search = GridSearchCV(estimator=cb, param_grid=param_grid, cv=3, scoring='accuracy')"
   ]
  },
  {
   "cell_type": "code",
   "execution_count": 51,
   "id": "3e0128d0",
   "metadata": {},
   "outputs": [
    {
     "data": {
      "text/plain": [
       "GridSearchCV(cv=3,\n",
       "             estimator=<catboost.core.CatBoostClassifier object at 0x0000018AFF858E80>,\n",
       "             param_grid={'depth': [2, 3], 'iterations': [50, 70, 80, 100],\n",
       "                         'learning_rate': [0.005, 0.01, 0.015]},\n",
       "             scoring='accuracy')"
      ]
     },
     "execution_count": 51,
     "metadata": {},
     "output_type": "execute_result"
    }
   ],
   "source": [
    "grid_search.fit(x_train, y_train)"
   ]
  },
  {
   "cell_type": "code",
   "execution_count": 52,
   "id": "5b2a4d5c",
   "metadata": {},
   "outputs": [],
   "source": [
    "best_params = grid_search.best_params_\n",
    "best_model = grid_search.best_estimator_"
   ]
  },
  {
   "cell_type": "code",
   "execution_count": 53,
   "id": "bd86735f",
   "metadata": {},
   "outputs": [],
   "source": [
    "accuracy = best_model.score(x_test, y_test)"
   ]
  },
  {
   "cell_type": "code",
   "execution_count": 54,
   "id": "016feead",
   "metadata": {},
   "outputs": [
    {
     "name": "stdout",
     "output_type": "stream",
     "text": [
      "Best Parameters: {'depth': 2, 'iterations': 50, 'learning_rate': 0.005}\n",
      "Best Model Accuracy: 0.6507936507936508\n"
     ]
    }
   ],
   "source": [
    "print(\"Best Parameters:\", best_params)\n",
    "print(\"Best Model Accuracy:\", accuracy)"
   ]
  },
  {
   "cell_type": "markdown",
   "id": "ddb47881",
   "metadata": {},
   "source": [
    "Best parameters gave a whooping 65% accuracy from 60%, this proves the usefulness of hyper-parameter tuning in machine learning"
   ]
  },
  {
   "cell_type": "code",
   "execution_count": 55,
   "id": "0d007f3c",
   "metadata": {},
   "outputs": [],
   "source": [
    "cb = CatBoostClassifier(random_state = 42,verbose = False, depth = 2, iterations = 50, learning_rate = 0.005)"
   ]
  },
  {
   "cell_type": "code",
   "execution_count": 56,
   "id": "85056c95",
   "metadata": {},
   "outputs": [
    {
     "data": {
      "text/plain": [
       "<catboost.core.CatBoostClassifier at 0x18aff864a90>"
      ]
     },
     "execution_count": 56,
     "metadata": {},
     "output_type": "execute_result"
    }
   ],
   "source": [
    "cb.fit(x_train,y_train)"
   ]
  },
  {
   "cell_type": "code",
   "execution_count": 57,
   "id": "83605408",
   "metadata": {},
   "outputs": [],
   "source": [
    "#saving model\n",
    "with open(\"model.pkl\", \"wb\") as model_file:\n",
    "    model = pickle.dump(cb, model_file)"
   ]
  },
  {
   "cell_type": "code",
   "execution_count": 58,
   "id": "8b9a4663",
   "metadata": {},
   "outputs": [],
   "source": [
    "#loading model\n",
    "with open(\"model.pkl\", \"rb\") as model_file:\n",
    "    model = pickle.load(model_file)"
   ]
  },
  {
   "cell_type": "markdown",
   "id": "e7fcff85",
   "metadata": {},
   "source": [
    "#### Model explanation with Shap"
   ]
  },
  {
   "cell_type": "markdown",
   "id": "2ac97445",
   "metadata": {},
   "source": [
    "Shap is a state-of-the-art package which helps to explain features in a dataset after being trained"
   ]
  },
  {
   "cell_type": "code",
   "execution_count": 59,
   "id": "27a922b8",
   "metadata": {},
   "outputs": [],
   "source": [
    "explainer = shap.Explainer(model)"
   ]
  },
  {
   "cell_type": "code",
   "execution_count": 60,
   "id": "de1ac5ba",
   "metadata": {},
   "outputs": [],
   "source": [
    "shap_values = explainer.shap_values(x_train)"
   ]
  },
  {
   "cell_type": "code",
   "execution_count": 61,
   "id": "6fd6d9fd",
   "metadata": {},
   "outputs": [
    {
     "data": {
      "image/png": "[encoded data removed]",
      "text/plain": [
       "<Figure size 800x590 with 2 Axes>"
      ]
     },
     "metadata": {},
     "output_type": "display_data"
    }
   ],
   "source": [
    "shap.summary_plot(shap_values, x_train, feature_names=['Academic_Performance',\n",
    " 'Research Experience',\n",
    " 'Relevant_Skills',\n",
    " 'Letters_of_Recommendation',\n",
    " 'Interview_Score',\n",
    " 'Motivation Level',\n",
    " 'Extracurricular_Activities',\n",
    " 'Age',\n",
    " 'Coding Experience',\n",
    " 'Work Status',\n",
    " 'Access to Constant Electricity'] )"
   ]
  },
  {
   "cell_type": "markdown",
   "id": "f6e9525d",
   "metadata": {},
   "source": [
    "The figure above describes the features. Coding experience seem to be the most useful feature while interview score is the least feature. Coding experience has a high feature value and is worth taking note of as the internship success is decided."
   ]
  }
 ],
 "metadata": {
  "kernelspec": {
   "display_name": "Python 3 (ipykernel)",
   "language": "python",
   "name": "python3"
  },
  "language_info": {
   "codemirror_mode": {
    "name": "ipython",
    "version": 3
   },
   "file_extension": ".py",
   "mimetype": "text/x-python",
   "name": "python",
   "nbconvert_exporter": "python",
   "pygments_lexer": "ipython3",
   "version": "3.9.13"
  }
 },
 "nbformat": 4,
 "nbformat_minor": 5
}
